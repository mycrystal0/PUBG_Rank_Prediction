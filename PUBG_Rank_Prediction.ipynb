{
 "cells": [
  {
   "cell_type": "code",
   "execution_count": 1,
   "id": "05d661bd",
   "metadata": {},
   "outputs": [],
   "source": [
    "import numpy as np\n",
    "import pandas as pd\n",
    "import matplotlib.pyplot as plt\n",
    "import seaborn as sns"
   ]
  },
  {
   "cell_type": "code",
   "execution_count": 2,
   "id": "eb23fa74",
   "metadata": {
    "scrolled": false
   },
   "outputs": [
    {
     "data": {
      "text/html": [
       "<div>\n",
       "<style scoped>\n",
       "    .dataframe tbody tr th:only-of-type {\n",
       "        vertical-align: middle;\n",
       "    }\n",
       "\n",
       "    .dataframe tbody tr th {\n",
       "        vertical-align: top;\n",
       "    }\n",
       "\n",
       "    .dataframe thead th {\n",
       "        text-align: right;\n",
       "    }\n",
       "</style>\n",
       "<table border=\"1\" class=\"dataframe\">\n",
       "  <thead>\n",
       "    <tr style=\"text-align: right;\">\n",
       "      <th></th>\n",
       "      <th>Id</th>\n",
       "      <th>groupId</th>\n",
       "      <th>matchId</th>\n",
       "      <th>assists</th>\n",
       "      <th>boosts</th>\n",
       "      <th>damageDealt</th>\n",
       "      <th>DBNOs</th>\n",
       "      <th>headshotKills</th>\n",
       "      <th>heals</th>\n",
       "      <th>killPlace</th>\n",
       "      <th>...</th>\n",
       "      <th>revives</th>\n",
       "      <th>rideDistance</th>\n",
       "      <th>roadKills</th>\n",
       "      <th>swimDistance</th>\n",
       "      <th>teamKills</th>\n",
       "      <th>vehicleDestroys</th>\n",
       "      <th>walkDistance</th>\n",
       "      <th>weaponsAcquired</th>\n",
       "      <th>winPoints</th>\n",
       "      <th>winPlacePerc</th>\n",
       "    </tr>\n",
       "  </thead>\n",
       "  <tbody>\n",
       "    <tr>\n",
       "      <th>0</th>\n",
       "      <td>7f96b2f878858a</td>\n",
       "      <td>4d4b580de459be</td>\n",
       "      <td>a10357fd1a4a91</td>\n",
       "      <td>0</td>\n",
       "      <td>0</td>\n",
       "      <td>0.00</td>\n",
       "      <td>0</td>\n",
       "      <td>0</td>\n",
       "      <td>0</td>\n",
       "      <td>60</td>\n",
       "      <td>...</td>\n",
       "      <td>0</td>\n",
       "      <td>0.0000</td>\n",
       "      <td>0</td>\n",
       "      <td>0.00</td>\n",
       "      <td>0</td>\n",
       "      <td>0</td>\n",
       "      <td>244.80</td>\n",
       "      <td>1</td>\n",
       "      <td>1466</td>\n",
       "      <td>0.4444</td>\n",
       "    </tr>\n",
       "    <tr>\n",
       "      <th>1</th>\n",
       "      <td>eef90569b9d03c</td>\n",
       "      <td>684d5656442f9e</td>\n",
       "      <td>aeb375fc57110c</td>\n",
       "      <td>0</td>\n",
       "      <td>0</td>\n",
       "      <td>91.47</td>\n",
       "      <td>0</td>\n",
       "      <td>0</td>\n",
       "      <td>0</td>\n",
       "      <td>57</td>\n",
       "      <td>...</td>\n",
       "      <td>0</td>\n",
       "      <td>0.0045</td>\n",
       "      <td>0</td>\n",
       "      <td>11.04</td>\n",
       "      <td>0</td>\n",
       "      <td>0</td>\n",
       "      <td>1434.00</td>\n",
       "      <td>5</td>\n",
       "      <td>0</td>\n",
       "      <td>0.6400</td>\n",
       "    </tr>\n",
       "    <tr>\n",
       "      <th>2</th>\n",
       "      <td>1eaf90ac73de72</td>\n",
       "      <td>6a4a42c3245a74</td>\n",
       "      <td>110163d8bb94ae</td>\n",
       "      <td>1</td>\n",
       "      <td>0</td>\n",
       "      <td>68.00</td>\n",
       "      <td>0</td>\n",
       "      <td>0</td>\n",
       "      <td>0</td>\n",
       "      <td>47</td>\n",
       "      <td>...</td>\n",
       "      <td>0</td>\n",
       "      <td>0.0000</td>\n",
       "      <td>0</td>\n",
       "      <td>0.00</td>\n",
       "      <td>0</td>\n",
       "      <td>0</td>\n",
       "      <td>161.80</td>\n",
       "      <td>2</td>\n",
       "      <td>0</td>\n",
       "      <td>0.7755</td>\n",
       "    </tr>\n",
       "    <tr>\n",
       "      <th>3</th>\n",
       "      <td>4616d365dd2853</td>\n",
       "      <td>a930a9c79cd721</td>\n",
       "      <td>f1f1f4ef412d7e</td>\n",
       "      <td>0</td>\n",
       "      <td>0</td>\n",
       "      <td>32.90</td>\n",
       "      <td>0</td>\n",
       "      <td>0</td>\n",
       "      <td>0</td>\n",
       "      <td>75</td>\n",
       "      <td>...</td>\n",
       "      <td>0</td>\n",
       "      <td>0.0000</td>\n",
       "      <td>0</td>\n",
       "      <td>0.00</td>\n",
       "      <td>0</td>\n",
       "      <td>0</td>\n",
       "      <td>202.70</td>\n",
       "      <td>3</td>\n",
       "      <td>0</td>\n",
       "      <td>0.1667</td>\n",
       "    </tr>\n",
       "    <tr>\n",
       "      <th>4</th>\n",
       "      <td>315c96c26c9aac</td>\n",
       "      <td>de04010b3458dd</td>\n",
       "      <td>6dc8ff871e21e6</td>\n",
       "      <td>0</td>\n",
       "      <td>0</td>\n",
       "      <td>100.00</td>\n",
       "      <td>0</td>\n",
       "      <td>0</td>\n",
       "      <td>0</td>\n",
       "      <td>45</td>\n",
       "      <td>...</td>\n",
       "      <td>0</td>\n",
       "      <td>0.0000</td>\n",
       "      <td>0</td>\n",
       "      <td>0.00</td>\n",
       "      <td>0</td>\n",
       "      <td>0</td>\n",
       "      <td>49.75</td>\n",
       "      <td>2</td>\n",
       "      <td>0</td>\n",
       "      <td>0.1875</td>\n",
       "    </tr>\n",
       "  </tbody>\n",
       "</table>\n",
       "<p>5 rows × 29 columns</p>\n",
       "</div>"
      ],
      "text/plain": [
       "               Id         groupId         matchId  assists  boosts  \\\n",
       "0  7f96b2f878858a  4d4b580de459be  a10357fd1a4a91        0       0   \n",
       "1  eef90569b9d03c  684d5656442f9e  aeb375fc57110c        0       0   \n",
       "2  1eaf90ac73de72  6a4a42c3245a74  110163d8bb94ae        1       0   \n",
       "3  4616d365dd2853  a930a9c79cd721  f1f1f4ef412d7e        0       0   \n",
       "4  315c96c26c9aac  de04010b3458dd  6dc8ff871e21e6        0       0   \n",
       "\n",
       "   damageDealt  DBNOs  headshotKills  heals  killPlace  ...  revives  \\\n",
       "0         0.00      0              0      0         60  ...        0   \n",
       "1        91.47      0              0      0         57  ...        0   \n",
       "2        68.00      0              0      0         47  ...        0   \n",
       "3        32.90      0              0      0         75  ...        0   \n",
       "4       100.00      0              0      0         45  ...        0   \n",
       "\n",
       "   rideDistance  roadKills  swimDistance  teamKills vehicleDestroys  \\\n",
       "0        0.0000          0          0.00          0               0   \n",
       "1        0.0045          0         11.04          0               0   \n",
       "2        0.0000          0          0.00          0               0   \n",
       "3        0.0000          0          0.00          0               0   \n",
       "4        0.0000          0          0.00          0               0   \n",
       "\n",
       "   walkDistance  weaponsAcquired  winPoints  winPlacePerc  \n",
       "0        244.80                1       1466        0.4444  \n",
       "1       1434.00                5          0        0.6400  \n",
       "2        161.80                2          0        0.7755  \n",
       "3        202.70                3          0        0.1667  \n",
       "4         49.75                2          0        0.1875  \n",
       "\n",
       "[5 rows x 29 columns]"
      ]
     },
     "execution_count": 2,
     "metadata": {},
     "output_type": "execute_result"
    }
   ],
   "source": [
    "# 读取数据，预览前5行\n",
    "train = pd.read_csv('train.csv')\n",
    "test = pd.read_csv('test.csv')\n",
    "train.head()\n"
   ]
  },
  {
   "cell_type": "code",
   "execution_count": 3,
   "id": "8c4435cf",
   "metadata": {
    "scrolled": true
   },
   "outputs": [
    {
     "name": "stdout",
     "output_type": "stream",
     "text": [
      "<class 'pandas.core.frame.DataFrame'>\n",
      "RangeIndex: 4446966 entries, 0 to 4446965\n",
      "Data columns (total 29 columns):\n",
      " #   Column           Dtype  \n",
      "---  ------           -----  \n",
      " 0   Id               object \n",
      " 1   groupId          object \n",
      " 2   matchId          object \n",
      " 3   assists          int64  \n",
      " 4   boosts           int64  \n",
      " 5   damageDealt      float64\n",
      " 6   DBNOs            int64  \n",
      " 7   headshotKills    int64  \n",
      " 8   heals            int64  \n",
      " 9   killPlace        int64  \n",
      " 10  killPoints       int64  \n",
      " 11  kills            int64  \n",
      " 12  killStreaks      int64  \n",
      " 13  longestKill      float64\n",
      " 14  matchDuration    int64  \n",
      " 15  matchType        object \n",
      " 16  maxPlace         int64  \n",
      " 17  numGroups        int64  \n",
      " 18  rankPoints       int64  \n",
      " 19  revives          int64  \n",
      " 20  rideDistance     float64\n",
      " 21  roadKills        int64  \n",
      " 22  swimDistance     float64\n",
      " 23  teamKills        int64  \n",
      " 24  vehicleDestroys  int64  \n",
      " 25  walkDistance     float64\n",
      " 26  weaponsAcquired  int64  \n",
      " 27  winPoints        int64  \n",
      " 28  winPlacePerc     float64\n",
      "dtypes: float64(6), int64(19), object(4)\n",
      "memory usage: 983.9+ MB\n",
      "<class 'pandas.core.frame.DataFrame'>\n",
      "RangeIndex: 1934174 entries, 0 to 1934173\n",
      "Data columns (total 28 columns):\n",
      " #   Column           Dtype  \n",
      "---  ------           -----  \n",
      " 0   Id               object \n",
      " 1   groupId          object \n",
      " 2   matchId          object \n",
      " 3   assists          int64  \n",
      " 4   boosts           int64  \n",
      " 5   damageDealt      float64\n",
      " 6   DBNOs            int64  \n",
      " 7   headshotKills    int64  \n",
      " 8   heals            int64  \n",
      " 9   killPlace        int64  \n",
      " 10  killPoints       int64  \n",
      " 11  kills            int64  \n",
      " 12  killStreaks      int64  \n",
      " 13  longestKill      float64\n",
      " 14  matchDuration    int64  \n",
      " 15  matchType        object \n",
      " 16  maxPlace         int64  \n",
      " 17  numGroups        int64  \n",
      " 18  rankPoints       int64  \n",
      " 19  revives          int64  \n",
      " 20  rideDistance     float64\n",
      " 21  roadKills        int64  \n",
      " 22  swimDistance     float64\n",
      " 23  teamKills        int64  \n",
      " 24  vehicleDestroys  int64  \n",
      " 25  walkDistance     float64\n",
      " 26  weaponsAcquired  int64  \n",
      " 27  winPoints        int64  \n",
      "dtypes: float64(5), int64(19), object(4)\n",
      "memory usage: 413.2+ MB\n"
     ]
    },
    {
     "data": {
      "text/plain": [
       "(1934174, 28)"
      ]
     },
     "execution_count": 3,
     "metadata": {},
     "output_type": "execute_result"
    }
   ],
   "source": [
    "# 查看一下数据的基本信息。\n",
    "\n",
    "\n",
    "train.info()\n",
    "train.shape\n",
    "\n",
    "\n",
    "test.info()\n",
    "test.shape"
   ]
  },
  {
   "cell_type": "markdown",
   "id": "e1dc52ec",
   "metadata": {},
   "source": [
    "# 处理缺失数据"
   ]
  },
  {
   "cell_type": "code",
   "execution_count": 4,
   "id": "7e81c32d",
   "metadata": {
    "scrolled": true
   },
   "outputs": [
    {
     "data": {
      "text/html": [
       "<div>\n",
       "<style scoped>\n",
       "    .dataframe tbody tr th:only-of-type {\n",
       "        vertical-align: middle;\n",
       "    }\n",
       "\n",
       "    .dataframe tbody tr th {\n",
       "        vertical-align: top;\n",
       "    }\n",
       "\n",
       "    .dataframe thead th {\n",
       "        text-align: right;\n",
       "    }\n",
       "</style>\n",
       "<table border=\"1\" class=\"dataframe\">\n",
       "  <thead>\n",
       "    <tr style=\"text-align: right;\">\n",
       "      <th></th>\n",
       "      <th>Id</th>\n",
       "      <th>groupId</th>\n",
       "      <th>matchId</th>\n",
       "      <th>assists</th>\n",
       "      <th>boosts</th>\n",
       "      <th>damageDealt</th>\n",
       "      <th>DBNOs</th>\n",
       "      <th>headshotKills</th>\n",
       "      <th>heals</th>\n",
       "      <th>killPlace</th>\n",
       "      <th>...</th>\n",
       "      <th>revives</th>\n",
       "      <th>rideDistance</th>\n",
       "      <th>roadKills</th>\n",
       "      <th>swimDistance</th>\n",
       "      <th>teamKills</th>\n",
       "      <th>vehicleDestroys</th>\n",
       "      <th>walkDistance</th>\n",
       "      <th>weaponsAcquired</th>\n",
       "      <th>winPoints</th>\n",
       "      <th>winPlacePerc</th>\n",
       "    </tr>\n",
       "  </thead>\n",
       "  <tbody>\n",
       "    <tr>\n",
       "      <th>2744604</th>\n",
       "      <td>f70c74418bb064</td>\n",
       "      <td>12dfbede33f92b</td>\n",
       "      <td>224a123c53e008</td>\n",
       "      <td>0</td>\n",
       "      <td>0</td>\n",
       "      <td>0.0</td>\n",
       "      <td>0</td>\n",
       "      <td>0</td>\n",
       "      <td>0</td>\n",
       "      <td>1</td>\n",
       "      <td>...</td>\n",
       "      <td>0</td>\n",
       "      <td>0.0</td>\n",
       "      <td>0</td>\n",
       "      <td>0.0</td>\n",
       "      <td>0</td>\n",
       "      <td>0</td>\n",
       "      <td>0.0</td>\n",
       "      <td>0</td>\n",
       "      <td>0</td>\n",
       "      <td>NaN</td>\n",
       "    </tr>\n",
       "  </tbody>\n",
       "</table>\n",
       "<p>1 rows × 29 columns</p>\n",
       "</div>"
      ],
      "text/plain": [
       "                     Id         groupId         matchId  assists  boosts  \\\n",
       "2744604  f70c74418bb064  12dfbede33f92b  224a123c53e008        0       0   \n",
       "\n",
       "         damageDealt  DBNOs  headshotKills  heals  killPlace  ...  revives  \\\n",
       "2744604          0.0      0              0      0          1  ...        0   \n",
       "\n",
       "         rideDistance  roadKills  swimDistance  teamKills vehicleDestroys  \\\n",
       "2744604           0.0          0           0.0          0               0   \n",
       "\n",
       "         walkDistance  weaponsAcquired  winPoints  winPlacePerc  \n",
       "2744604           0.0                0          0           NaN  \n",
       "\n",
       "[1 rows x 29 columns]"
      ]
     },
     "execution_count": 4,
     "metadata": {},
     "output_type": "execute_result"
    }
   ],
   "source": [
    "# 筛选缺失数据\n",
    "train[train['winPlacePerc'].isnull()]"
   ]
  },
  {
   "cell_type": "code",
   "execution_count": 5,
   "id": "62d87a0b",
   "metadata": {},
   "outputs": [],
   "source": [
    "# 删除缺失数据\n",
    "train.drop(2744604, inplace = True)"
   ]
  },
  {
   "cell_type": "markdown",
   "id": "ada8d5d9",
   "metadata": {},
   "source": [
    "# 处理参与比赛人数数据"
   ]
  },
  {
   "cell_type": "code",
   "execution_count": 6,
   "id": "c1286894",
   "metadata": {},
   "outputs": [],
   "source": [
    "# 创建一个新的特征：每场比赛的参与人数\n",
    "# train\n",
    "train['player_joined'] = train.groupby('matchId')['matchId'].transform('count')\n",
    "# test\n",
    "test['player_joined'] = test.groupby('matchId')['matchId'].transform('count')"
   ]
  },
  {
   "cell_type": "code",
   "execution_count": 7,
   "id": "d4aa3b51",
   "metadata": {
    "scrolled": true
   },
   "outputs": [
    {
     "name": "stderr",
     "output_type": "stream",
     "text": [
      "D:\\software\\Anaconda3\\lib\\site-packages\\seaborn\\_decorators.py:36: FutureWarning: Pass the following variable as a keyword arg: x. From version 0.12, the only valid positional argument will be `data`, and passing other arguments without an explicit keyword will result in an error or misinterpretation.\n",
      "  warnings.warn(\n"
     ]
    },
    {
     "data": {
      "text/plain": [
       "<AxesSubplot:xlabel='player_joined', ylabel='count'>"
      ]
     },
     "execution_count": 7,
     "metadata": {},
     "output_type": "execute_result"
    },
    {
     "data": {
      "image/png": "[encoded data removed]",
      "text/plain": [
       "<Figure size 1080x576 with 1 Axes>"
      ]
     },
     "metadata": {
      "needs_background": "light"
     },
     "output_type": "display_data"
    }
   ],
   "source": [
    "# 画出玩家超过75人的比赛场次\n",
    "plt.subplots(figsize=(15,8))\n",
    "sns.countplot(train[train['player_joined'] >= 75]['player_joined'])\n"
   ]
  },
  {
   "cell_type": "code",
   "execution_count": 8,
   "id": "c243b460",
   "metadata": {},
   "outputs": [],
   "source": [
    "# 将数据调整到相当于参赛人数为100人的标准下\n",
    "\n",
    "# train\n",
    "train['kills_Norm'] = train['kills'] * (1 + ((100 - train['player_joined']) / 100))\n",
    "train['damageDealt_Norm'] = train['damageDealt'] * (1 + ((100 - train['player_joined']) / 100))\n",
    "train['matchDuration_Norm'] = train['matchDuration'] * (1 + ((100 - train['player_joined']) / 100))\n",
    "\n",
    "#test\n",
    "test['kills_Norm'] = test['kills'] * (1 + ((100 - test['player_joined']) / 100))\n",
    "test['damageDealt_Norm'] = test['damageDealt'] * (1 + ((100 - test['player_joined']) / 100))\n",
    "test['matchDuration_Norm'] = test['matchDuration'] * (1 + ((100 - test['player_joined']) / 100))\n"
   ]
  },
  {
   "cell_type": "markdown",
   "id": "2a58f55f",
   "metadata": {},
   "source": [
    "# 处理开挂数据"
   ]
  },
  {
   "cell_type": "code",
   "execution_count": 9,
   "id": "118a1b9a",
   "metadata": {},
   "outputs": [],
   "source": [
    "# 创建一个新的特征：玩家移动的总距离（使用交通工具移动距离 + 步行移动距离 + 游泳移动距离）\n",
    "\n",
    "train['total_distance']=train['rideDistance']+train['walkDistance']+train['swimDistance']\n",
    "test['total_distance']=test['rideDistance']+test['walkDistance']+test['swimDistance']\n",
    "\n",
    "# 统计出没有移动距离就有击杀人数的数据\n",
    "\n",
    "\n",
    "train['killsWithoutMoving'] = ((train['kills'] > 0) & (train['total_distance'] == 0))\n",
    "test['killsWithoutMoving'] = ((test['kills'] > 0) & (test['total_distance'] == 0))\n",
    "\n",
    "# 统计头部击杀率\n",
    "\n",
    "train['headshot_Rate'] = train['headshotKills'] / train['kills']\n",
    "# 击杀人数为0的头部击杀率为0\n",
    "train['headshot_Rate'] = train['headshot_Rate'].fillna(0)\n",
    "\n",
    "\n",
    "test['headshot_Rate'] = test['headshotKills'] / train['kills']\n",
    "# 击杀人数为0的头部击杀率为0\n",
    "test['headshot_Rate'] = test['headshot_Rate'].fillna(0)\n"
   ]
  },
  {
   "cell_type": "code",
   "execution_count": 10,
   "id": "77108155",
   "metadata": {},
   "outputs": [],
   "source": [
    "# 剔除没有移动距离就有击杀人数的数据\n",
    "train.drop(train[train['killsWithoutMoving']==True].index,inplace=True)\n",
    "\n",
    "test.drop(test[test['killsWithoutMoving']==True].index,inplace=True)\n"
   ]
  },
  {
   "cell_type": "code",
   "execution_count": 11,
   "id": "7f13290c",
   "metadata": {},
   "outputs": [],
   "source": [
    "# 剔除开车杀人大于10的数据\n",
    "\n",
    "#test\n",
    "\n",
    "train.drop(train[train['roadKills'] > 10].index,inplace=True)\n",
    "\n",
    "#test \n",
    "\n",
    "test.drop(test[test['roadKills'] > 10].index,inplace=True)"
   ]
  },
  {
   "cell_type": "code",
   "execution_count": 12,
   "id": "4e7d8c2c",
   "metadata": {},
   "outputs": [
    {
     "data": {
      "image/png": "[encoded data removed]",
      "text/plain": [
       "<Figure size 1080x576 with 1 Axes>"
      ]
     },
     "metadata": {
      "needs_background": "light"
     },
     "output_type": "display_data"
    }
   ],
   "source": [
    "#画出击杀数据\n",
    "\n",
    "plt.subplots(figsize = (15, 8))\n",
    "sns.countplot(data = train,x = train['kills']).set_title('Kills')\n",
    "plt.show()"
   ]
  },
  {
   "cell_type": "code",
   "execution_count": 13,
   "id": "1a61c6dd",
   "metadata": {},
   "outputs": [],
   "source": [
    "# 剔除击杀量大于30的数据\n",
    "\n",
    "#train\n",
    "train.drop(train[train['kills'] > 30].index,inplace=True)\n",
    "\n",
    "#test\n",
    "\n",
    "test.drop(test[test['kills'] > 30].index,inplace=True)"
   ]
  },
  {
   "cell_type": "code",
   "execution_count": 14,
   "id": "b8bff9bb",
   "metadata": {
    "scrolled": true
   },
   "outputs": [
    {
     "name": "stderr",
     "output_type": "stream",
     "text": [
      "D:\\software\\Anaconda3\\lib\\site-packages\\seaborn\\distributions.py:2619: FutureWarning: `distplot` is a deprecated function and will be removed in a future version. Please adapt your code to use either `displot` (a figure-level function with similar flexibility) or `histplot` (an axes-level function for histograms).\n",
      "  warnings.warn(msg, FutureWarning)\n"
     ]
    },
    {
     "data": {
      "image/png": "[encoded data removed]",
      "text/plain": [
       "<Figure size 1080x720 with 1 Axes>"
      ]
     },
     "metadata": {
      "needs_background": "light"
     },
     "output_type": "display_data"
    }
   ],
   "source": [
    "# 画出爆头率异常数据\n",
    "plt.figure(figsize = (15, 10))\n",
    "sns.distplot(x = train['headshot_Rate'],bins = 10)\n",
    "plt.show()"
   ]
  },
  {
   "cell_type": "code",
   "execution_count": 15,
   "id": "e819cf3c",
   "metadata": {
    "scrolled": true
   },
   "outputs": [],
   "source": [
    "# 剔除爆头率为1的异常数据\n",
    "\n",
    "train.drop(train[train['headshot_Rate'] == 1].index,inplace=True)\n",
    "\n",
    "test.drop(test[test['headshot_Rate'] == 1].index,inplace=True)\n"
   ]
  },
  {
   "cell_type": "code",
   "execution_count": 16,
   "id": "a3966f04",
   "metadata": {},
   "outputs": [
    {
     "name": "stderr",
     "output_type": "stream",
     "text": [
      "D:\\software\\Anaconda3\\lib\\site-packages\\seaborn\\distributions.py:2619: FutureWarning: `distplot` is a deprecated function and will be removed in a future version. Please adapt your code to use either `displot` (a figure-level function with similar flexibility) or `histplot` (an axes-level function for histograms).\n",
      "  warnings.warn(msg, FutureWarning)\n"
     ]
    },
    {
     "data": {
      "image/png": "[encoded data removed]",
      "text/plain": [
       "<Figure size 1080x576 with 1 Axes>"
      ]
     },
     "metadata": {
      "needs_background": "light"
     },
     "output_type": "display_data"
    }
   ],
   "source": [
    "# 画出远距离击杀数据\n",
    "plt.subplots(figsize=(15,8))\n",
    "sns.distplot(train['longestKill'],bins=20)\n",
    "plt.show()"
   ]
  },
  {
   "cell_type": "code",
   "execution_count": 17,
   "id": "f1dbd984",
   "metadata": {},
   "outputs": [],
   "source": [
    "# 剔除击杀距离超过1000米的数据\n",
    "#train\n",
    "train.drop(train[train['longestKill'] >= 1000].index,inplace=True)\n",
    "\n",
    "#test\n",
    "test.drop(test[test['longestKill'] >= 1000].index,inplace=True)"
   ]
  },
  {
   "cell_type": "code",
   "execution_count": 18,
   "id": "06aef055",
   "metadata": {},
   "outputs": [
    {
     "name": "stderr",
     "output_type": "stream",
     "text": [
      "D:\\software\\Anaconda3\\lib\\site-packages\\seaborn\\distributions.py:2619: FutureWarning: `distplot` is a deprecated function and will be removed in a future version. Please adapt your code to use either `displot` (a figure-level function with similar flexibility) or `histplot` (an axes-level function for histograms).\n",
      "  warnings.warn(msg, FutureWarning)\n"
     ]
    },
    {
     "data": {
      "image/png": "[encoded data removed]",
      "text/plain": [
       "<Figure size 864x288 with 1 Axes>"
      ]
     },
     "metadata": {
      "needs_background": "light"
     },
     "output_type": "display_data"
    }
   ],
   "source": [
    "# 画出步行移动距离的数据图\n",
    "\n",
    "plt.figure(figsize = (12,4))\n",
    "sns.distplot(train['walkDistance'], bins = 10)\n",
    "plt.show()"
   ]
  },
  {
   "cell_type": "code",
   "execution_count": 19,
   "id": "093bacef",
   "metadata": {},
   "outputs": [],
   "source": [
    "#剔除步行移动距离大于10000米的数据\n",
    "\n",
    "#train\n",
    "train.drop(train[train['walkDistance'] >= 10000].index,inplace = True)\n",
    "\n",
    "\n",
    "#test\n",
    "test.drop(test[test['walkDistance'] >= 10000].index,inplace = True)"
   ]
  },
  {
   "cell_type": "code",
   "execution_count": 20,
   "id": "f37b6fb7",
   "metadata": {},
   "outputs": [
    {
     "name": "stderr",
     "output_type": "stream",
     "text": [
      "D:\\software\\Anaconda3\\lib\\site-packages\\seaborn\\distributions.py:2619: FutureWarning: `distplot` is a deprecated function and will be removed in a future version. Please adapt your code to use either `displot` (a figure-level function with similar flexibility) or `histplot` (an axes-level function for histograms).\n",
      "  warnings.warn(msg, FutureWarning)\n"
     ]
    },
    {
     "data": {
      "image/png": "[encoded data removed]",
      "text/plain": [
       "<Figure size 864x288 with 1 Axes>"
      ]
     },
     "metadata": {
      "needs_background": "light"
     },
     "output_type": "display_data"
    }
   ],
   "source": [
    "# 画出骑行移动距离的数据图\n",
    "\n",
    "plt.subplots(figsize=(12,4))\n",
    "sns.distplot(train['rideDistance'],bins=10)\n",
    "plt.show()"
   ]
  },
  {
   "cell_type": "code",
   "execution_count": 21,
   "id": "10e199e9",
   "metadata": {},
   "outputs": [],
   "source": [
    "#剔除骑行移动距离大于15000米的数据\n",
    "#test\n",
    "\n",
    "train.drop(train[train['rideDistance'] >= 15000].index, inplace = True)\n",
    "\n",
    "#test\n",
    "\n",
    "test.drop(test[test['rideDistance'] >= 15000].index, inplace = True)"
   ]
  },
  {
   "cell_type": "code",
   "execution_count": 22,
   "id": "64f40ee1",
   "metadata": {},
   "outputs": [
    {
     "name": "stderr",
     "output_type": "stream",
     "text": [
      "D:\\software\\Anaconda3\\lib\\site-packages\\seaborn\\distributions.py:2619: FutureWarning: `distplot` is a deprecated function and will be removed in a future version. Please adapt your code to use either `displot` (a figure-level function with similar flexibility) or `histplot` (an axes-level function for histograms).\n",
      "  warnings.warn(msg, FutureWarning)\n"
     ]
    },
    {
     "data": {
      "image/png": "[encoded data removed]",
      "text/plain": [
       "<Figure size 864x288 with 1 Axes>"
      ]
     },
     "metadata": {
      "needs_background": "light"
     },
     "output_type": "display_data"
    }
   ],
   "source": [
    "# 画出游泳移动距离的数据图\n",
    "\n",
    "plt.subplots(figsize = (12,4))\n",
    "sns.distplot(train['swimDistance'],bins = 10)\n",
    "plt.show()"
   ]
  },
  {
   "cell_type": "code",
   "execution_count": 23,
   "id": "f6a0560a",
   "metadata": {},
   "outputs": [],
   "source": [
    "#剔除游泳距离大于1000米的数据\n",
    "#test\n",
    "\n",
    "train.drop(train[train['swimDistance'] >= 1000].index, inplace = True)\n",
    "\n",
    "#test\n",
    "\n",
    "test.drop(test[test['swimDistance'] >= 1000].index, inplace = True)"
   ]
  },
  {
   "cell_type": "code",
   "execution_count": 24,
   "id": "2de56f12",
   "metadata": {},
   "outputs": [
    {
     "name": "stderr",
     "output_type": "stream",
     "text": [
      "D:\\software\\Anaconda3\\lib\\site-packages\\seaborn\\distributions.py:2619: FutureWarning: `distplot` is a deprecated function and will be removed in a future version. Please adapt your code to use either `displot` (a figure-level function with similar flexibility) or `histplot` (an axes-level function for histograms).\n",
      "  warnings.warn(msg, FutureWarning)\n"
     ]
    },
    {
     "data": {
      "image/png": "[encoded data removed]",
      "text/plain": [
       "<Figure size 864x288 with 1 Axes>"
      ]
     },
     "metadata": {
      "needs_background": "light"
     },
     "output_type": "display_data"
    }
   ],
   "source": [
    "# 画出总移动距离的数据图\n",
    "\n",
    "plt.subplots(figsize = (12,4))\n",
    "sns.distplot(train['total_distance'],bins = 10)\n",
    "plt.show()"
   ]
  },
  {
   "cell_type": "code",
   "execution_count": 25,
   "id": "a54d0c61",
   "metadata": {},
   "outputs": [],
   "source": [
    "#剔除总移动距离大于15000米的数据\n",
    "#train\n",
    "train.drop(train[train['total_distance'] >= 15000].index,inplace = True)\n",
    "\n",
    "#test\n",
    "test.drop(test[test['total_distance'] >= 15000].index,inplace = True)"
   ]
  },
  {
   "cell_type": "code",
   "execution_count": 26,
   "id": "1ebfb182",
   "metadata": {},
   "outputs": [
    {
     "name": "stderr",
     "output_type": "stream",
     "text": [
      "D:\\software\\Anaconda3\\lib\\site-packages\\seaborn\\distributions.py:2619: FutureWarning: `distplot` is a deprecated function and will be removed in a future version. Please adapt your code to use either `displot` (a figure-level function with similar flexibility) or `histplot` (an axes-level function for histograms).\n",
      "  warnings.warn(msg, FutureWarning)\n"
     ]
    },
    {
     "data": {
      "image/png": "[encoded data removed]",
      "text/plain": [
       "<Figure size 864x288 with 1 Axes>"
      ]
     },
     "metadata": {
      "needs_background": "light"
     },
     "output_type": "display_data"
    }
   ],
   "source": [
    "# 画出武器获得情况的数据图\n",
    "plt.subplots(figsize = (12,4))\n",
    "sns.distplot(train['weaponsAcquired'],bins = 10)\n",
    "plt.show()"
   ]
  },
  {
   "cell_type": "code",
   "execution_count": 27,
   "id": "ced435c5",
   "metadata": {},
   "outputs": [],
   "source": [
    "# 剔除武器获得50把以上的数据\n",
    "#train\n",
    "train.drop(train[train['weaponsAcquired'] >= 50].index,inplace = True)\n",
    "\n",
    "#test\n",
    "test.drop(test[test['weaponsAcquired'] >= 50].index,inplace = True)"
   ]
  },
  {
   "cell_type": "code",
   "execution_count": 28,
   "id": "049ffaa0",
   "metadata": {},
   "outputs": [
    {
     "name": "stderr",
     "output_type": "stream",
     "text": [
      "D:\\software\\Anaconda3\\lib\\site-packages\\seaborn\\distributions.py:2619: FutureWarning: `distplot` is a deprecated function and will be removed in a future version. Please adapt your code to use either `displot` (a figure-level function with similar flexibility) or `histplot` (an axes-level function for histograms).\n",
      "  warnings.warn(msg, FutureWarning)\n"
     ]
    },
    {
     "data": {
      "image/png": "[encoded data removed]",
      "text/plain": [
       "<Figure size 864x288 with 1 Axes>"
      ]
     },
     "metadata": {
      "needs_background": "light"
     },
     "output_type": "display_data"
    }
   ],
   "source": [
    "# 画出治疗量情况的数据图\n",
    "plt.subplots(figsize = (12,4))\n",
    "sns.distplot(train['heals'],bins = 10)\n",
    "plt.show()"
   ]
  },
  {
   "cell_type": "code",
   "execution_count": 29,
   "id": "4dbcb8e5",
   "metadata": {},
   "outputs": [],
   "source": [
    "# 剔除治疗量超过40的数据\n",
    "#train\n",
    "train.drop(train[train['heals'] >= 40].index,inplace = True)\n",
    "\n",
    "#test\n",
    "test.drop(test[test['heals'] >= 40].index,inplace = True)"
   ]
  },
  {
   "cell_type": "code",
   "execution_count": 30,
   "id": "ade9ab2e",
   "metadata": {},
   "outputs": [
    {
     "data": {
      "text/plain": [
       "(4189792, 36)"
      ]
     },
     "execution_count": 30,
     "metadata": {},
     "output_type": "execute_result"
    }
   ],
   "source": [
    "train.shape"
   ]
  },
  {
   "cell_type": "code",
   "execution_count": 31,
   "id": "d4f146c3",
   "metadata": {},
   "outputs": [],
   "source": [
    "# 比赛模式\n",
    "#train\n",
    "\n",
    "train=pd.get_dummies(train,columns = ['matchType'])\n",
    "\n",
    "#test\n",
    "\n",
    "test=pd.get_dummies(test,columns = ['matchType'])"
   ]
  },
  {
   "cell_type": "code",
   "execution_count": 32,
   "id": "a732d9fc",
   "metadata": {},
   "outputs": [
    {
     "name": "stdout",
     "output_type": "stream",
     "text": [
      "<class 'pandas.core.frame.DataFrame'>\n",
      "Int64Index: 4189792 entries, 0 to 4446965\n",
      "Data columns (total 51 columns):\n",
      " #   Column                      Dtype  \n",
      "---  ------                      -----  \n",
      " 0   Id                          object \n",
      " 1   groupId                     object \n",
      " 2   matchId                     object \n",
      " 3   assists                     int64  \n",
      " 4   boosts                      int64  \n",
      " 5   damageDealt                 float64\n",
      " 6   DBNOs                       int64  \n",
      " 7   headshotKills               int64  \n",
      " 8   heals                       int64  \n",
      " 9   killPlace                   int64  \n",
      " 10  killPoints                  int64  \n",
      " 11  kills                       int64  \n",
      " 12  killStreaks                 int64  \n",
      " 13  longestKill                 float64\n",
      " 14  matchDuration               int64  \n",
      " 15  maxPlace                    int64  \n",
      " 16  numGroups                   int64  \n",
      " 17  rankPoints                  int64  \n",
      " 18  revives                     int64  \n",
      " 19  rideDistance                float64\n",
      " 20  roadKills                   int64  \n",
      " 21  swimDistance                float64\n",
      " 22  teamKills                   int64  \n",
      " 23  vehicleDestroys             int64  \n",
      " 24  walkDistance                float64\n",
      " 25  weaponsAcquired             int64  \n",
      " 26  winPoints                   int64  \n",
      " 27  winPlacePerc                float64\n",
      " 28  player_joined               int64  \n",
      " 29  kills_Norm                  float64\n",
      " 30  damageDealt_Norm            float64\n",
      " 31  matchDuration_Norm          float64\n",
      " 32  total_distance              float64\n",
      " 33  killsWithoutMoving          bool   \n",
      " 34  headshot_Rate               float64\n",
      " 35  matchType_crashfpp          uint8  \n",
      " 36  matchType_crashtpp          uint8  \n",
      " 37  matchType_duo               uint8  \n",
      " 38  matchType_duo-fpp           uint8  \n",
      " 39  matchType_flarefpp          uint8  \n",
      " 40  matchType_flaretpp          uint8  \n",
      " 41  matchType_normal-duo        uint8  \n",
      " 42  matchType_normal-duo-fpp    uint8  \n",
      " 43  matchType_normal-solo       uint8  \n",
      " 44  matchType_normal-solo-fpp   uint8  \n",
      " 45  matchType_normal-squad      uint8  \n",
      " 46  matchType_normal-squad-fpp  uint8  \n",
      " 47  matchType_solo              uint8  \n",
      " 48  matchType_solo-fpp          uint8  \n",
      " 49  matchType_squad             uint8  \n",
      " 50  matchType_squad-fpp         uint8  \n",
      "dtypes: bool(1), float64(11), int64(20), object(3), uint8(16)\n",
      "memory usage: 1.2+ GB\n"
     ]
    }
   ],
   "source": [
    "train.info()"
   ]
  },
  {
   "cell_type": "code",
   "execution_count": 33,
   "id": "a6558dd0",
   "metadata": {},
   "outputs": [],
   "source": [
    "# 删除所有不重要的列\n",
    "\n",
    "#train\n",
    "\n",
    "train.drop(['killsWithoutMoving'],axis=1,inplace=True)\n",
    "#test\n",
    "\n",
    "test.drop(['killsWithoutMoving'],axis=1,inplace=True)"
   ]
  },
  {
   "cell_type": "code",
   "execution_count": 34,
   "id": "b9b339b7",
   "metadata": {},
   "outputs": [],
   "source": [
    "train.drop(['Id','groupId','matchId'],axis=1,inplace=True)\n",
    "\n",
    "# 测试集保留Id\n",
    "test_id=test['Id']\n",
    "\n",
    "test.drop(['Id','groupId','matchId'],axis=1,inplace=True)"
   ]
  },
  {
   "cell_type": "code",
   "execution_count": 35,
   "id": "ae1fbd93",
   "metadata": {},
   "outputs": [
    {
     "name": "stdout",
     "output_type": "stream",
     "text": [
      "<class 'pandas.core.frame.DataFrame'>\n",
      "Int64Index: 4189792 entries, 0 to 4446965\n",
      "Data columns (total 47 columns):\n",
      " #   Column                      Dtype  \n",
      "---  ------                      -----  \n",
      " 0   assists                     int64  \n",
      " 1   boosts                      int64  \n",
      " 2   damageDealt                 float64\n",
      " 3   DBNOs                       int64  \n",
      " 4   headshotKills               int64  \n",
      " 5   heals                       int64  \n",
      " 6   killPlace                   int64  \n",
      " 7   killPoints                  int64  \n",
      " 8   kills                       int64  \n",
      " 9   killStreaks                 int64  \n",
      " 10  longestKill                 float64\n",
      " 11  matchDuration               int64  \n",
      " 12  maxPlace                    int64  \n",
      " 13  numGroups                   int64  \n",
      " 14  rankPoints                  int64  \n",
      " 15  revives                     int64  \n",
      " 16  rideDistance                float64\n",
      " 17  roadKills                   int64  \n",
      " 18  swimDistance                float64\n",
      " 19  teamKills                   int64  \n",
      " 20  vehicleDestroys             int64  \n",
      " 21  walkDistance                float64\n",
      " 22  weaponsAcquired             int64  \n",
      " 23  winPoints                   int64  \n",
      " 24  winPlacePerc                float64\n",
      " 25  player_joined               int64  \n",
      " 26  kills_Norm                  float64\n",
      " 27  damageDealt_Norm            float64\n",
      " 28  matchDuration_Norm          float64\n",
      " 29  total_distance              float64\n",
      " 30  headshot_Rate               float64\n",
      " 31  matchType_crashfpp          uint8  \n",
      " 32  matchType_crashtpp          uint8  \n",
      " 33  matchType_duo               uint8  \n",
      " 34  matchType_duo-fpp           uint8  \n",
      " 35  matchType_flarefpp          uint8  \n",
      " 36  matchType_flaretpp          uint8  \n",
      " 37  matchType_normal-duo        uint8  \n",
      " 38  matchType_normal-duo-fpp    uint8  \n",
      " 39  matchType_normal-solo       uint8  \n",
      " 40  matchType_normal-solo-fpp   uint8  \n",
      " 41  matchType_normal-squad      uint8  \n",
      " 42  matchType_normal-squad-fpp  uint8  \n",
      " 43  matchType_solo              uint8  \n",
      " 44  matchType_solo-fpp          uint8  \n",
      " 45  matchType_squad             uint8  \n",
      " 46  matchType_squad-fpp         uint8  \n",
      "dtypes: float64(11), int64(20), uint8(16)\n",
      "memory usage: 1.1 GB\n"
     ]
    }
   ],
   "source": [
    "train.info()"
   ]
  },
  {
   "cell_type": "markdown",
   "id": "7abe5353",
   "metadata": {},
   "source": [
    "# 建立模型"
   ]
  },
  {
   "cell_type": "code",
   "execution_count": 36,
   "id": "ec0408a0",
   "metadata": {},
   "outputs": [],
   "source": [
    "# 取50000条数据作为训练样本\n",
    "sample = 50000\n",
    "df_sample = train.sample(sample)"
   ]
  },
  {
   "cell_type": "code",
   "execution_count": 37,
   "id": "96a91d93",
   "metadata": {},
   "outputs": [
    {
     "data": {
      "text/plain": [
       "(50000, 46)"
      ]
     },
     "execution_count": 37,
     "metadata": {},
     "output_type": "execute_result"
    }
   ],
   "source": [
    "# 特征数据和标签数据拆分\n",
    "y = df_sample['winPlacePerc']\n",
    "df = df_sample.drop(columns = ['winPlacePerc'])\n",
    "data = np.array(df)\n",
    "data_Y = np.array(y).reshape(-1, 1)\n",
    "data.shape"
   ]
  },
  {
   "cell_type": "code",
   "execution_count": 38,
   "id": "ef548ac3",
   "metadata": {},
   "outputs": [],
   "source": [
    "# 参数\n",
    "lr = 0.00000001\n",
    "iterations = 3000\n",
    "epochs = 1 # number of epochs for training\n",
    "rng = np.random.default_rng(1)\n",
    "\n",
    "# 切分数据集\n",
    "m_train = 40000\n",
    "m_test = sample - m_train\n",
    "d = data.shape[1]\n",
    "X_train = data[0:m_train,:].T\n",
    "X_test = data[m_train:,:].T\n",
    "y_train = data_Y[0:m_train].reshape((1,-1))\n",
    "y_test = data_Y[m_train:].reshape((1,-1))\n",
    "\n",
    "w = np.zeros((d, 1)).reshape((-1, 1))  # 权重\n",
    "b = 0 # bias, scalar\n",
    "v = np.ones((1, m_train))  # 偏差\n",
    "costs_saved = [] \n"
   ]
  },
  {
   "cell_type": "code",
   "execution_count": 39,
   "id": "0009e785",
   "metadata": {},
   "outputs": [
    {
     "name": "stdout",
     "output_type": "stream",
     "text": [
      "Weights = [ 3.154e-07  2.272e-06  9.569e-05 -2.227e-07  1.223e-07  2.426e-06\n",
      " -7.745e-05  7.635e-05  1.075e-06  7.345e-07  2.425e-05 -3.193e-05\n",
      "  5.703e-05  5.610e-05  2.721e-04  3.120e-07 -4.800e-05  4.195e-10\n",
      "  8.035e-06 -1.824e-08 -8.891e-09  1.153e-04  6.310e-06  2.067e-04\n",
      "  3.239e-05  1.112e-06  9.464e-05 -9.228e-05  7.537e-05  8.114e-08\n",
      "  4.253e-09 -4.321e-10  8.970e-08  3.768e-07 -7.208e-10 -1.958e-09\n",
      "  1.045e-09 -7.646e-09  0.000e+00 -1.952e-10 -1.052e-09 -2.188e-08\n",
      "  1.020e-07  4.586e-07 -2.791e-07 -4.120e-07]\n",
      "Bias = 0.000\n"
     ]
    },
    {
     "data": {
      "image/png": "[encoded data removed]",
      "text/plain": [
       "<Figure size 864x288 with 1 Axes>"
      ]
     },
     "metadata": {
      "needs_background": "light"
     },
     "output_type": "display_data"
    },
    {
     "name": "stdout",
     "output_type": "stream",
     "text": [
      "Trainset MSE = 0.028\n",
      "Trainset RMSE = 0.166\n",
      "Trainset MAE = 0.000\n",
      "Trainset SMAPE = 44.758\n",
      "Testset MSE = 0.027\n",
      "Testset RMSE = 0.163\n",
      "Testset MAE = 0.000\n",
      "Testset SMAPE = 44.758\n"
     ]
    },
    {
     "data": {
      "image/png": "[encoded data removed]",
      "text/plain": [
       "<Figure size 864x288 with 1 Axes>"
      ]
     },
     "metadata": {
      "needs_background": "light"
     },
     "output_type": "display_data"
    }
   ],
   "source": [
    "# 批梯度下降法\n",
    "for i in range(iterations):\n",
    "    \n",
    "    y_hat = np.dot(w.T, X_train) + b * v\n",
    "    e = y_hat - y_train\n",
    "    b = b - 2. * lr * np.dot(v, e.T) / m_train\n",
    "    w = w - 2. * lr * np.dot(X_train, e.T) / m_train\n",
    "     \n",
    "    costs = np.dot(e, e.T) / m_train \n",
    "    costs_saved.append(costs.item(0))\n",
    "    \n",
    "print('Weights =', np.array2string(np.squeeze(w, axis=1), precision=3))\n",
    "print(f'Bias = {b.item(0):.3f}')\n",
    "\n",
    "# 画出损失函数曲线\n",
    "plt.subplots(figsize = (12,4))\n",
    "plt.plot(range(1, np.size(costs_saved) + 1), costs_saved, 'r-o', linewidth=2, markersize=5)\n",
    "plt.ylabel('Costs')\n",
    "plt.xlabel('Iterations')\n",
    "plt.title('Learning rate = ' + str(lr))\n",
    "plt.show()\n",
    "\n",
    "# 模型评估\n",
    "\n",
    "# trainset RMSE\n",
    "y_hat = np.dot(w.T, X_train) + b # broadcasting\n",
    "e = y_hat - y_train\n",
    "mse = np.dot(e, e.T) / m_train\n",
    "rmse = np.sqrt(mse)\n",
    "mae = abs(e) / m_train\n",
    "smape = 2.0 * np.mean(np.abs(y_hat - y_train) / (np.abs(y_hat) + np.abs(y_train))) * 100\n",
    "print(f'Trainset MSE = {mse.item(0):.3f}')\n",
    "print(f'Trainset RMSE = {rmse.item(0):.3f}')\n",
    "print(f'Trainset MAE = {mae.item(0):.3f}')\n",
    "print(f'Trainset SMAPE = {smape.item(0):.3f}')\n",
    "\n",
    "# testset RMSE\n",
    "y_hat_test = np.dot(w.T, X_test) + b # broadcasting\n",
    "e_test = y_hat_test - y_test\n",
    "mse_test = np.dot(e_test, e_test.T) / m_test\n",
    "rmse_test = np.sqrt(mse_test)\n",
    "mae_test = abs(e) / m_train\n",
    "smape_test = 2.0 * np.mean(np.abs(y_hat - y_train) / (np.abs(y_hat) + np.abs(y_train))) * 100\n",
    "print(f'Testset MSE = {mse_test.item(0):.3f}')\n",
    "print(f'Testset RMSE = {rmse_test.item(0):.3f}')\n",
    "print(f'Testset MAE = {mae_test.item(0):.3f}')\n",
    "print(f'Testset SMAPE = {smape_test.item(0):.3f}')\n",
    "\n",
    "# 真实值与预测值比较的折线图\n",
    "y_train = y_train.reshape((-1,1))\n",
    "y_hat = y_hat.reshape((-1,1))\n",
    "plt.subplots(figsize = (12,4))\n",
    "plt.plot(y_train[:100], \"r-\", linewidth=2, label=\"true\")\n",
    "plt.plot(y_hat[:100], \"g-\", linewidth=2, label=\"predict\")\n",
    "plt.show()"
   ]
  },
  {
   "cell_type": "code",
   "execution_count": null,
   "id": "80f237ac",
   "metadata": {},
   "outputs": [],
   "source": []
  },
  {
   "cell_type": "code",
   "execution_count": null,
   "id": "30f5f64b",
   "metadata": {},
   "outputs": [],
   "source": []
  }
 ],
 "metadata": {
  "kernelspec": {
   "display_name": "Python 3 (ipykernel)",
   "language": "python",
   "name": "python3"
  },
  "language_info": {
   "codemirror_mode": {
    "name": "ipython",
    "version": 3
   },
   "file_extension": ".py",
   "mimetype": "text/x-python",
   "name": "python",
   "nbconvert_exporter": "python",
   "pygments_lexer": "ipython3",
   "version": "3.9.12"
  }
 },
 "nbformat": 4,
 "nbformat_minor": 5
}
